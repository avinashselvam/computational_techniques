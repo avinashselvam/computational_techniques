{
 "cells": [
  {
   "cell_type": "code",
   "execution_count": 1,
   "metadata": {},
   "outputs": [],
   "source": [
    "dydt = lambda t, y: -1000*(y-(t+2))"
   ]
  },
  {
   "cell_type": "code",
   "execution_count": 19,
   "metadata": {},
   "outputs": [
    {
     "name": "stdout",
     "output_type": "stream",
     "text": [
      "2.00899809361\n",
      "0.012\n",
      "17.19140625\n"
     ]
    }
   ],
   "source": [
    "for h in [5e-4, 20e-4, 25e-4]:\n",
    "    y = 0\n",
    "    t = 0\n",
    "    while t <= 0.01:\n",
    "        y += dydt(t,y)*h\n",
    "        t += h\n",
    "    print(y)"
   ]
  },
  {
   "cell_type": "code",
   "execution_count": 3,
   "metadata": {},
   "outputs": [],
   "source": [
    "import numpy as np"
   ]
  },
  {
   "cell_type": "code",
   "execution_count": 6,
   "metadata": {},
   "outputs": [],
   "source": [
    "actual = lambda t: -np.exp(-1000*t) + t + 2"
   ]
  },
  {
   "cell_type": "code",
   "execution_count": 7,
   "metadata": {},
   "outputs": [
    {
     "data": {
      "text/plain": [
       "2.0099546000702375"
      ]
     },
     "execution_count": 7,
     "metadata": {},
     "output_type": "execute_result"
    }
   ],
   "source": [
    "actual(0.01)"
   ]
  },
  {
   "cell_type": "code",
   "execution_count": 22,
   "metadata": {},
   "outputs": [
    {
     "name": "stdout",
     "output_type": "stream",
     "text": [
      "0.999954350113\n",
      "0.999953600123\n",
      "0.999953350128\n"
     ]
    }
   ],
   "source": [
    "for h in [5e-10, 20e-10, 25e-10]:\n",
    "    y = 0\n",
    "    t = 0\n",
    "    while t <= 0.01:\n",
    "        y += dydt(t+h,actual(t+h))*h\n",
    "        t += h\n",
    "    print(y)"
   ]
  },
  {
   "cell_type": "code",
   "execution_count": 20,
   "metadata": {},
   "outputs": [
    {
     "data": {
      "text/plain": [
       "15.181451649929762"
      ]
     },
     "execution_count": 20,
     "metadata": {},
     "output_type": "execute_result"
    }
   ],
   "source": [
    "17.19140625 - actual(0.01)"
   ]
  },
  {
   "cell_type": "code",
   "execution_count": 24,
   "metadata": {},
   "outputs": [
    {
     "name": "stdout",
     "output_type": "stream",
     "text": [
      "1.01000024996\n",
      "1.01000099995\n",
      "1.01000124994\n"
     ]
    }
   ],
   "source": [
    "v = [0.999954350113, 0.999953600123, 0.999953350128]\n",
    "for each in v:\n",
    "    print(actual(0.01) - each)"
   ]
  },
  {
   "cell_type": "code",
   "execution_count": null,
   "metadata": {},
   "outputs": [],
   "source": []
  }
 ],
 "metadata": {
  "kernelspec": {
   "display_name": "Python 2",
   "language": "python",
   "name": "python2"
  },
  "language_info": {
   "codemirror_mode": {
    "name": "ipython",
    "version": 2
   },
   "file_extension": ".py",
   "mimetype": "text/x-python",
   "name": "python",
   "nbconvert_exporter": "python",
   "pygments_lexer": "ipython2",
   "version": "2.7.14"
  }
 },
 "nbformat": 4,
 "nbformat_minor": 2
}
